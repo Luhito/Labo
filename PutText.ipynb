{
  "cells": [
    {
      "cell_type": "markdown",
      "metadata": {
        "id": "view-in-github",
        "colab_type": "text"
      },
      "source": [
        "<a href=\"https://colab.research.google.com/github/Luhito/Labo/blob/master/PutText.ipynb\" target=\"_parent\"><img src=\"https://colab.research.google.com/assets/colab-badge.svg\" alt=\"Open In Colab\"/></a>"
      ]
    },
    {
      "cell_type": "markdown",
      "metadata": {
        "id": "Oj6AMrHua-QZ"
      },
      "source": [
        "##install"
      ]
    },
    {
      "cell_type": "code",
      "execution_count": 6,
      "metadata": {
        "id": "ChqK-7NDbCBD",
        "colab": {
          "base_uri": "https://localhost:8080/"
        },
        "outputId": "808ed312-633e-4d0d-be76-c1408cc21841"
      },
      "outputs": [
        {
          "output_type": "stream",
          "name": "stdout",
          "text": [
            "Requirement already satisfied: unidic-lite in /usr/local/lib/python3.10/dist-packages (1.0.8)\n"
          ]
        }
      ],
      "source": [
        "#%pip install --upgrade pip --user\n",
        "#%pip install moviepy==1.0.3\n",
        "#%pip install opencv-python\n",
        "#%pip install google-colab\n",
        "#%pip install ffmpeg\n",
        "#%pip install mecab-python3\n",
        "%pip install unidic-lite"
      ]
    },
    {
      "cell_type": "markdown",
      "metadata": {
        "id": "-FQDEJUa_vLn"
      },
      "source": [
        "## import"
      ]
    },
    {
      "cell_type": "code",
      "execution_count": 7,
      "metadata": {
        "id": "ZBRWw4_j_Mrk"
      },
      "outputs": [],
      "source": [
        "#「動画、字幕の開始地点・終了地点・テキストを与えると字幕を付けてくれるシステム」作るぞ\n",
        "import cv2\n",
        "from google.colab.patches import cv2_imshow\n",
        "import numpy as np\n",
        "\n",
        "#progress barに必要\n",
        "from tqdm.notebook import tqdm\n",
        "\n",
        "#日本語の使用に必要\n",
        "from PIL import Image, ImageDraw, ImageFont\n",
        "\n",
        "#PIL型の画像を表示する\n",
        "from IPython.display import display\n",
        "\n",
        "#csv\n",
        "import csv\n",
        "import pandas as pd\n",
        "import json\n",
        "\n",
        "#完成した動画に音声を入れる\n",
        "from moviepy.editor import VideoFileClip, AudioFileClip, CompositeAudioClip\n",
        "\n",
        "from enum import Enum"
      ]
    },
    {
      "cell_type": "code",
      "execution_count": 8,
      "metadata": {
        "colab": {
          "base_uri": "https://localhost:8080/"
        },
        "id": "dwP9mMhaoeWx",
        "outputId": "3af43a5a-34bb-4cf4-a5c5-3ad8ba12804c"
      },
      "outputs": [
        {
          "output_type": "stream",
          "name": "stdout",
          "text": [
            "Mounted at /content/drive\n"
          ]
        }
      ],
      "source": [
        "from google.colab import drive\n",
        "drive.mount('/content/drive')"
      ]
    },
    {
      "cell_type": "markdown",
      "metadata": {
        "id": "isZ1BmqI_zdx"
      },
      "source": [
        "## クラス定義"
      ]
    },
    {
      "cell_type": "code",
      "source": [
        "#!pip install mecab-python3\n",
        "tagger = MeCab.Tagger()\n",
        "print(tagger.parse(\"pythonが大好きです\"))"
      ],
      "metadata": {
        "colab": {
          "base_uri": "https://localhost:8080/"
        },
        "id": "NNI3eSiE2ySd",
        "outputId": "2242e47e-4536-41f6-8132-7eb77da6b710"
      },
      "execution_count": 9,
      "outputs": [
        {
          "output_type": "stream",
          "name": "stdout",
          "text": [
            "python\tpython\tpython\tpython\t名詞-普通名詞-一般\t\t\t0\n",
            "が\tガ\tガ\tが\t助詞-格助詞\t\t\t\n",
            "大好き\tダイスキ\tダイスキ\t大好き\t形状詞-一般\t\t\t1\n",
            "です\tデス\tデス\tです\t助動詞\t助動詞-デス\t終止形-一般\t\n",
            "EOS\n",
            "\n"
          ]
        }
      ]
    },
    {
      "cell_type": "markdown",
      "metadata": {
        "id": "DS1UuP5_DmYn"
      },
      "source": [
        "### 字幕タイプを定義するクラス"
      ]
    },
    {
      "cell_type": "code",
      "execution_count": 10,
      "metadata": {
        "id": "I1371joYDvhb"
      },
      "outputs": [],
      "source": [
        "#字幕の表示位置\n",
        "class CapPosType(Enum):\n",
        "  #画面下部\n",
        "  BOTTOM = 0\n",
        "  #人物下部\n",
        "  BOTTOM_PERSON = 1\n",
        "  #画面外\n",
        "  OUT = 2\n",
        "\n",
        "#字幕の表示方法\n",
        "class CapDispType(Enum):\n",
        "  #逐次、一括、歌詞\n",
        "  SEQ = 0\n",
        "  ALL = 1\n",
        "  LYRIC = 2"
      ]
    },
    {
      "cell_type": "markdown",
      "metadata": {
        "id": "yhjuXr1Y_61k"
      },
      "source": [
        "### 字幕を定義するクラス"
      ]
    },
    {
      "cell_type": "code",
      "execution_count": 11,
      "metadata": {
        "id": "WVDd9gKe_5bl"
      },
      "outputs": [],
      "source": [
        "class Caption:\n",
        "  start = 0\n",
        "  end = 0\n",
        "  text = \"\"\n",
        "  speaker = \"\"\n",
        "  origin=(0,0)\n",
        "  lefttop = (0,0)\n",
        "  rightbottom = (0,0)\n",
        "\n",
        "  def __init__(self, start, end, text, speaker):\n",
        "    self.start = start\n",
        "    self.end = end\n",
        "    self.text = text\n",
        "    self.speaker = speaker\n",
        "  def __str__(self):\n",
        "    return f\"start:{self.start}, end:{self.end}, text:{self.text}, speaker:{self.speaker}\"\n",
        "  def __repr__(self):\n",
        "    return self.__str__()\n",
        "\n",
        "class Captions:\n",
        "  \"\"\"\n",
        "    字幕を定義するクラス\n",
        "  \"\"\"\n",
        "\n",
        "  _captions = []\n",
        "  def __init__(self, path):\n",
        "\n",
        "    self._captions=[]\n",
        "\n",
        "    with open(path, 'r') as f:\n",
        "      reader = csv.reader(f)\n",
        "      lines = [row for row in reader]\n",
        "      for line in lines:\n",
        "        if line[0] == 'start':\n",
        "          continue\n",
        "        self._captions.append(Caption(int(line[0]), int(line[1]), line[2], line[3]))\n",
        "\n",
        "  def getCaptions(self, frameid):\n",
        "    \"\"\"\n",
        "    フレームIDから字幕を取得する関数：該当なしならNoneを返す\n",
        "    \"\"\"\n",
        "    captions_in_frame=[]\n",
        "    for caption in self._captions:\n",
        "      if caption.start <= frameid and caption.end >= frameid:\n",
        "        captions_in_frame.append(caption)\n",
        "    if len(captions_in_frame) > 0:\n",
        "      #print(str(c) for c in captions_in_frame)\n",
        "      return captions_in_frame\n",
        "    else:\n",
        "      return None\n",
        "\n",
        "  def __str__(self):\n",
        "    return f\"captions:{self._captions}\"\n",
        "  def __repr__(self):\n",
        "    return self.__str__()"
      ]
    },
    {
      "cell_type": "markdown",
      "metadata": {
        "id": "OZNmWnC-ABnz"
      },
      "source": [
        "### 動画の情報を保存するクラス"
      ]
    },
    {
      "cell_type": "code",
      "execution_count": 12,
      "metadata": {
        "id": "kJ3G5y76Afv1"
      },
      "outputs": [],
      "source": [
        "class VideoCapture:\n",
        "  def __init__(self, path):\n",
        "    self.path = path\n",
        "    self.cap = cv2.VideoCapture(path)\n",
        "    self.frame_count = int(self.cap.get(cv2.CAP_PROP_FRAME_COUNT))\n",
        "    self.fps = self.cap.get(cv2.CAP_PROP_FPS)\n",
        "    self.width = int(self.cap.get(cv2.CAP_PROP_FRAME_WIDTH))\n",
        "    self.height = int(self.cap.get(cv2.CAP_PROP_FRAME_HEIGHT))\n",
        "\n",
        "  def __str__(self):\n",
        "    return f\"path:{self.path}, frame_count:{self.frame_count}, fps:{self.fps}, width:{self.width}, height:{self.height}\"\n",
        "  def __repr__(self):\n",
        "    return self.__str__()"
      ]
    },
    {
      "cell_type": "markdown",
      "metadata": {
        "id": "fUsJeraaddmb"
      },
      "source": [
        "## メソッド定義"
      ]
    },
    {
      "cell_type": "markdown",
      "metadata": {
        "id": "nUSSslTLGoyu"
      },
      "source": [
        "### テキストと背景を描く関数"
      ]
    },
    {
      "cell_type": "code",
      "execution_count": 13,
      "metadata": {
        "id": "Q5I75C8xG6WA"
      },
      "outputs": [],
      "source": [
        "def create_overlay(img_size, origin, text_bbox, padding, text_bg):\n",
        "  \"\"\"\n",
        "  字幕の背景となるオーバーレイを作成する関数\n",
        "  \"\"\"\n",
        "  overlay = Image.new('RGBA', img_size, (0,0,0,0))\n",
        "  draw = ImageDraw.Draw(overlay)\n",
        "  left, top, right, bottom = text_bbox\n",
        "  draw.rectangle(((origin[0]+left-padding[0], origin[1]+top-padding[1]),\n",
        "                  (origin[0]+right+padding[0], origin[1]+bottom+padding[1])),\n",
        "                  fill=tuple(text_bg))\n",
        "  return overlay\n",
        "\n",
        "def draw_text_outline(draw, origin, text, font, font_outline_color):\n",
        "  \"\"\"\n",
        "  テキストの輪郭を描画する関数\n",
        "  \"\"\"\n",
        "  draw.text((origin[0]+1, origin[1]), text, font=font, fill=tuple(font_outline_color))\n",
        "  draw.text((origin[0]-1, origin[1]), text, font=font, fill=tuple(font_outline_color))\n",
        "  draw.text((origin[0], origin[1]+1), text, font=font, fill=tuple(font_outline_color))\n",
        "  draw.text((origin[0], origin[1]-1), text, font=font, fill=tuple(font_outline_color))\n",
        "\n",
        "def draw_text(draw, origin, text, font, font_color):\n",
        "  \"\"\"\n",
        "  テキストを描画する関数\n",
        "  \"\"\"\n",
        "  draw.text(origin, text, font=font, fill=tuple(font_color))\n",
        "  #draw.rectangle((origin[0],origin[1],origin[0]+3,origin[1]+3), fill=tuple(font_color))"
      ]
    },
    {
      "cell_type": "markdown",
      "metadata": {
        "id": "AhEWBPANqsBv"
      },
      "source": [
        "### 字幕を画面に貼る関数"
      ]
    },
    {
      "cell_type": "code",
      "execution_count": 14,
      "metadata": {
        "id": "dCWpPX2VqwGj"
      },
      "outputs": [],
      "source": [
        "def PutText(m, video, this_cs, frame, bg_image):\n",
        "  \"\"\"\n",
        "  フレームに字幕を付ける関数\n",
        "  \"\"\"\n",
        "\n",
        "  # frameを背景画像に貼り付け\n",
        "  img = Image.fromarray(frame)\n",
        "  img.putalpha(255)\n",
        "  bg_image.paste(img, (0, 0))\n",
        "\n",
        "  offset = 0 # y座標のオフセット\n",
        "\n",
        "  for i, c in enumerate(this_cs):\n",
        "    if i>1:\n",
        "      print(this_cs)\n",
        "\n",
        "    left, top, right, bottom = m.font.getbbox(c.text)\n",
        "    text_height = bottom - top\n",
        "\n",
        "    #テキストの表示位置を決める\n",
        "    if m.posType == CapPosType.BOTTOM:\n",
        "      origin = [c.origin[0], c.origin[1] - offset]\n",
        "    elif m.posType == CapPosType.BOTTOM_PERSON:\n",
        "      origin = [c.origin[0], c.origin[1] - offset]\n",
        "    elif m.posType == CapPosType.OUT:\n",
        "      origin = [c.origin[0], c.origin[1] - offset]\n",
        "\n",
        "    overlay = create_overlay(bg_image.size, origin, (left, top, right, bottom), m.padding, m.text_bg)\n",
        "    bg_image = Image.alpha_composite(bg_image, overlay)\n",
        "    draw_text_outline(ImageDraw.Draw(bg_image), origin, c.text, m.font, m.font_outline_color)\n",
        "    draw_text(ImageDraw.Draw(bg_image), origin, c.text, m.font, m.font_color)\n",
        "    bg_image = Image.alpha_composite(bg_image, overlay)\n",
        "\n",
        "    # 次の字幕のためのオフセットを計算\n",
        "    offset += text_height + m.padding[1] * 2\n",
        "\n",
        "  frame = np.array(bg_image) #BGRAになる\n",
        "  frame = cv2.resize(frame, (video.width, video.height))\n",
        "  frame = cv2.cvtColor(frame, cv2.COLOR_BGRA2BGR) #ここでBGRに戻る\n",
        "  return frame"
      ]
    },
    {
      "cell_type": "markdown",
      "metadata": {
        "id": "HQkdoC38jYDb"
      },
      "source": [
        "### 字幕を生成する関数"
      ]
    },
    {
      "cell_type": "code",
      "execution_count": 15,
      "metadata": {
        "id": "2V3jLQFzjdbf"
      },
      "outputs": [],
      "source": [
        "def GenerateCaption(m, cs, video):\n",
        "  \"\"\"\n",
        "  字幕を生成する関数\n",
        "  \"\"\"\n",
        "  # ダミーテキストで字幕の高さを計算\n",
        "  dummy_text = \"漢あA　、^,g\"\n",
        "  left, top, right, bottom = m.font.getbbox(dummy_text)\n",
        "  text_height = bottom - top\n",
        "\n",
        "  buffer = m.padding[1] * 2\n",
        "  text_height += buffer\n",
        "\n",
        "  for c in cs._captions:\n",
        "    c.origin=[50, round(video.height) - text_height - m.padding[1]]"
      ]
    },
    {
      "cell_type": "markdown",
      "metadata": {
        "id": "n7UVEadZ7K0e"
      },
      "source": [
        "## 字幕全体の設定"
      ]
    },
    {
      "cell_type": "code",
      "execution_count": 16,
      "metadata": {
        "id": "5jqdcdQG8GSN"
      },
      "outputs": [],
      "source": [
        "class Manager:\n",
        "  def __init__(self):\n",
        "    #入力欄\n",
        "    self.font_color=(0, 0, 255, 255)\n",
        "    self.font_outline_color=(0, 0, 0, 255)\n",
        "    self.font_size=50\n",
        "    self.bg=(0, 0, 0, 255)\n",
        "    self.text_bg=(32, 32, 32, 64)\n",
        "    self.padding=(20, 10)\n",
        "    self.wrapping=20\n",
        "    self.font_path = '/content/drive/MyDrive/Labo/Fonts/MEIRYO.TTC'\n",
        "    self.video_path = '/content/drive/MyDrive/Labo/001.mp4'\n",
        "    self.csv_path = '/content/drive/MyDrive/Labo/vid_data/001.csv'\n",
        "    self.out_dist = '/content/drive/MyDrive/Labo/'\n",
        "    self.out_name = 'out.mp4'\n",
        "    self.posType = CapPosType.BOTTOM\n",
        "    self.dispType = CapDispType.ALL\n",
        "\n",
        "    #自動生成\n",
        "    self.font = ImageFont.truetype(self.font_path, self.font_size)\n",
        "    self.out_path = self.out_dist + self.out_name\n",
        "\n",
        "  def __str__(self):\n",
        "    return f\"video path={self.video_path}, csv path={self.csv_path}, out path={self.out_path}\"\n",
        "  def __repr__(self):\n",
        "    return self.__str__()"
      ]
    },
    {
      "cell_type": "markdown",
      "metadata": {
        "id": "gvhKcKP3BKvc"
      },
      "source": [
        "## メインで動かすところ"
      ]
    },
    {
      "cell_type": "markdown",
      "metadata": {
        "id": "Y58cHd1IvGZJ"
      },
      "source": [
        "### 各種読み込み・動画の処理"
      ]
    },
    {
      "cell_type": "code",
      "execution_count": 17,
      "metadata": {
        "colab": {
          "base_uri": "https://localhost:8080/",
          "height": 66,
          "referenced_widgets": [
            "ac408172ac194f5d87bf5ee9779cb12d",
            "086eb23f843d49a094e71e0ddb0d1490",
            "d4a28f853a274c7094ba3133289bfefe",
            "67c975ba87ff4a68984c518f68685341",
            "c13d86c095cc43c5815c3fedd16feaa6",
            "0e5ffe0950a6439d8cb0ee1eb0b69c60",
            "977c9d2235834dfda8739d774e8b83c2",
            "71006f043c194355b36081829b9ad384",
            "b7b9d584e05a4c35a3219e2cb318731d",
            "09f31a92708849848568a680900225a9",
            "d502223946714b04a7e863bb8230b156"
          ]
        },
        "id": "rG8eypG5nJc9",
        "outputId": "7f70d8d4-f7a1-4fa8-d8d5-e1418333d348"
      },
      "outputs": [
        {
          "output_type": "stream",
          "name": "stdout",
          "text": [
            "/content/drive/MyDrive/Labo/out.mp4 1983148141 30.0 (1280, 720)\n"
          ]
        },
        {
          "output_type": "display_data",
          "data": {
            "text/plain": [
              "  0%|          | 0/705 [00:00<?, ?it/s]"
            ],
            "application/vnd.jupyter.widget-view+json": {
              "version_major": 2,
              "version_minor": 0,
              "model_id": "ac408172ac194f5d87bf5ee9779cb12d"
            }
          },
          "metadata": {}
        }
      ],
      "source": [
        "m=Manager()\n",
        "video = VideoCapture(m.video_path) #ユーザ定義関数でvideoの情報を入手\n",
        "cs = Captions(m.csv_path)\n",
        "\n",
        "#videoから字幕を生成する関数(今はoriginを設定するだけ)\n",
        "GenerateCaption(m, cs, video)\n",
        "\n",
        "print(m.out_path, cv2.VideoWriter_fourcc(*'mp4v'), video.fps, (video.width, video.height))\n",
        "out = cv2.VideoWriter(m.out_path, cv2.VideoWriter_fourcc(*'mp4v'), video.fps, (video.width, video.height))\n",
        "\n",
        "#各フレームごとに処理\n",
        "for i in tqdm(range(video.frame_count)):\n",
        "  ret, frame = video.cap.read()\n",
        "  if not ret:\n",
        "    break\n",
        "\n",
        "  this_cs = cs.getCaptions(i)\n",
        "\n",
        "  if m.posType == CapPosType.OUT:\n",
        "    bg_image = Image.new('RGBA', (video.width, int(video.height*1.3)), m.bg)\n",
        "  else:\n",
        "    bg_image = Image.new('RGBA', (video.width, video.height), m.bg)\n",
        "\n",
        "  #out.write()はBGRしか扱えない！\n",
        "  if this_cs != None:\n",
        "    frame = PutText(m, video, this_cs, frame, bg_image) #BGRが返ってくる\n",
        "    out.write(frame)\n",
        "  else:\n",
        "    out.write(frame)\n",
        "\n",
        "  i += 1\n",
        "\n",
        "out.release()"
      ]
    },
    {
      "cell_type": "markdown",
      "metadata": {
        "id": "Zq-NhhjMXdCA"
      },
      "source": [
        "### 動画に音声を追加"
      ]
    },
    {
      "cell_type": "code",
      "execution_count": 18,
      "metadata": {
        "colab": {
          "base_uri": "https://localhost:8080/"
        },
        "id": "UHmSQ7xqXfuJ",
        "outputId": "e2f0b287-18ba-4515-8e40-cf04738fdde1"
      },
      "outputs": [
        {
          "output_type": "stream",
          "name": "stdout",
          "text": [
            "Moviepy - Building video /content/drive/MyDrive/Labo/out2.mp4.\n",
            "MoviePy - Writing audio in out2TEMP_MPY_wvf_snd.mp3\n"
          ]
        },
        {
          "output_type": "stream",
          "name": "stderr",
          "text": []
        },
        {
          "output_type": "stream",
          "name": "stdout",
          "text": [
            "MoviePy - Done.\n",
            "Moviepy - Writing video /content/drive/MyDrive/Labo/out2.mp4\n",
            "\n"
          ]
        },
        {
          "output_type": "stream",
          "name": "stderr",
          "text": []
        },
        {
          "output_type": "stream",
          "name": "stdout",
          "text": [
            "Moviepy - Done !\n",
            "Moviepy - video ready /content/drive/MyDrive/Labo/out2.mp4\n"
          ]
        }
      ],
      "source": [
        "video_clip = VideoFileClip(m.out_path)\n",
        "audio_clip = AudioFileClip(m.video_path)\n",
        "final_audio = CompositeAudioClip([audio_clip])\n",
        "final_clip = video_clip.set_audio(final_audio)\n",
        "final_clip.write_videofile(m.out_dist + \"out2.mp4\")"
      ]
    },
    {
      "cell_type": "markdown",
      "metadata": {
        "id": "lm4sU-FiVE3P"
      },
      "source": [
        "## 動画を表示"
      ]
    },
    {
      "cell_type": "code",
      "execution_count": 19,
      "metadata": {
        "id": "19PxdUPDU7dc"
      },
      "outputs": [],
      "source": [
        "#from IPython.display import Video\n",
        "#Video(\"/content/drive/MyDrive/Labo/out.mp4\", embed=True)"
      ]
    }
  ],
  "metadata": {
    "colab": {
      "provenance": [],
      "include_colab_link": true
    },
    "kernelspec": {
      "display_name": "Python 3",
      "name": "python3"
    },
    "language_info": {
      "codemirror_mode": {
        "name": "ipython",
        "version": 3
      },
      "file_extension": ".py",
      "mimetype": "text/x-python",
      "name": "python",
      "nbconvert_exporter": "python",
      "pygments_lexer": "ipython3",
      "version": "3.11.5"
    },
    "widgets": {
      "application/vnd.jupyter.widget-state+json": {
        "ac408172ac194f5d87bf5ee9779cb12d": {
          "model_module": "@jupyter-widgets/controls",
          "model_name": "HBoxModel",
          "model_module_version": "1.5.0",
          "state": {
            "_dom_classes": [],
            "_model_module": "@jupyter-widgets/controls",
            "_model_module_version": "1.5.0",
            "_model_name": "HBoxModel",
            "_view_count": null,
            "_view_module": "@jupyter-widgets/controls",
            "_view_module_version": "1.5.0",
            "_view_name": "HBoxView",
            "box_style": "",
            "children": [
              "IPY_MODEL_086eb23f843d49a094e71e0ddb0d1490",
              "IPY_MODEL_d4a28f853a274c7094ba3133289bfefe",
              "IPY_MODEL_67c975ba87ff4a68984c518f68685341"
            ],
            "layout": "IPY_MODEL_c13d86c095cc43c5815c3fedd16feaa6"
          }
        },
        "086eb23f843d49a094e71e0ddb0d1490": {
          "model_module": "@jupyter-widgets/controls",
          "model_name": "HTMLModel",
          "model_module_version": "1.5.0",
          "state": {
            "_dom_classes": [],
            "_model_module": "@jupyter-widgets/controls",
            "_model_module_version": "1.5.0",
            "_model_name": "HTMLModel",
            "_view_count": null,
            "_view_module": "@jupyter-widgets/controls",
            "_view_module_version": "1.5.0",
            "_view_name": "HTMLView",
            "description": "",
            "description_tooltip": null,
            "layout": "IPY_MODEL_0e5ffe0950a6439d8cb0ee1eb0b69c60",
            "placeholder": "​",
            "style": "IPY_MODEL_977c9d2235834dfda8739d774e8b83c2",
            "value": "100%"
          }
        },
        "d4a28f853a274c7094ba3133289bfefe": {
          "model_module": "@jupyter-widgets/controls",
          "model_name": "FloatProgressModel",
          "model_module_version": "1.5.0",
          "state": {
            "_dom_classes": [],
            "_model_module": "@jupyter-widgets/controls",
            "_model_module_version": "1.5.0",
            "_model_name": "FloatProgressModel",
            "_view_count": null,
            "_view_module": "@jupyter-widgets/controls",
            "_view_module_version": "1.5.0",
            "_view_name": "ProgressView",
            "bar_style": "success",
            "description": "",
            "description_tooltip": null,
            "layout": "IPY_MODEL_71006f043c194355b36081829b9ad384",
            "max": 705,
            "min": 0,
            "orientation": "horizontal",
            "style": "IPY_MODEL_b7b9d584e05a4c35a3219e2cb318731d",
            "value": 705
          }
        },
        "67c975ba87ff4a68984c518f68685341": {
          "model_module": "@jupyter-widgets/controls",
          "model_name": "HTMLModel",
          "model_module_version": "1.5.0",
          "state": {
            "_dom_classes": [],
            "_model_module": "@jupyter-widgets/controls",
            "_model_module_version": "1.5.0",
            "_model_name": "HTMLModel",
            "_view_count": null,
            "_view_module": "@jupyter-widgets/controls",
            "_view_module_version": "1.5.0",
            "_view_name": "HTMLView",
            "description": "",
            "description_tooltip": null,
            "layout": "IPY_MODEL_09f31a92708849848568a680900225a9",
            "placeholder": "​",
            "style": "IPY_MODEL_d502223946714b04a7e863bb8230b156",
            "value": " 705/705 [00:29&lt;00:00, 78.50it/s]"
          }
        },
        "c13d86c095cc43c5815c3fedd16feaa6": {
          "model_module": "@jupyter-widgets/base",
          "model_name": "LayoutModel",
          "model_module_version": "1.2.0",
          "state": {
            "_model_module": "@jupyter-widgets/base",
            "_model_module_version": "1.2.0",
            "_model_name": "LayoutModel",
            "_view_count": null,
            "_view_module": "@jupyter-widgets/base",
            "_view_module_version": "1.2.0",
            "_view_name": "LayoutView",
            "align_content": null,
            "align_items": null,
            "align_self": null,
            "border": null,
            "bottom": null,
            "display": null,
            "flex": null,
            "flex_flow": null,
            "grid_area": null,
            "grid_auto_columns": null,
            "grid_auto_flow": null,
            "grid_auto_rows": null,
            "grid_column": null,
            "grid_gap": null,
            "grid_row": null,
            "grid_template_areas": null,
            "grid_template_columns": null,
            "grid_template_rows": null,
            "height": null,
            "justify_content": null,
            "justify_items": null,
            "left": null,
            "margin": null,
            "max_height": null,
            "max_width": null,
            "min_height": null,
            "min_width": null,
            "object_fit": null,
            "object_position": null,
            "order": null,
            "overflow": null,
            "overflow_x": null,
            "overflow_y": null,
            "padding": null,
            "right": null,
            "top": null,
            "visibility": null,
            "width": null
          }
        },
        "0e5ffe0950a6439d8cb0ee1eb0b69c60": {
          "model_module": "@jupyter-widgets/base",
          "model_name": "LayoutModel",
          "model_module_version": "1.2.0",
          "state": {
            "_model_module": "@jupyter-widgets/base",
            "_model_module_version": "1.2.0",
            "_model_name": "LayoutModel",
            "_view_count": null,
            "_view_module": "@jupyter-widgets/base",
            "_view_module_version": "1.2.0",
            "_view_name": "LayoutView",
            "align_content": null,
            "align_items": null,
            "align_self": null,
            "border": null,
            "bottom": null,
            "display": null,
            "flex": null,
            "flex_flow": null,
            "grid_area": null,
            "grid_auto_columns": null,
            "grid_auto_flow": null,
            "grid_auto_rows": null,
            "grid_column": null,
            "grid_gap": null,
            "grid_row": null,
            "grid_template_areas": null,
            "grid_template_columns": null,
            "grid_template_rows": null,
            "height": null,
            "justify_content": null,
            "justify_items": null,
            "left": null,
            "margin": null,
            "max_height": null,
            "max_width": null,
            "min_height": null,
            "min_width": null,
            "object_fit": null,
            "object_position": null,
            "order": null,
            "overflow": null,
            "overflow_x": null,
            "overflow_y": null,
            "padding": null,
            "right": null,
            "top": null,
            "visibility": null,
            "width": null
          }
        },
        "977c9d2235834dfda8739d774e8b83c2": {
          "model_module": "@jupyter-widgets/controls",
          "model_name": "DescriptionStyleModel",
          "model_module_version": "1.5.0",
          "state": {
            "_model_module": "@jupyter-widgets/controls",
            "_model_module_version": "1.5.0",
            "_model_name": "DescriptionStyleModel",
            "_view_count": null,
            "_view_module": "@jupyter-widgets/base",
            "_view_module_version": "1.2.0",
            "_view_name": "StyleView",
            "description_width": ""
          }
        },
        "71006f043c194355b36081829b9ad384": {
          "model_module": "@jupyter-widgets/base",
          "model_name": "LayoutModel",
          "model_module_version": "1.2.0",
          "state": {
            "_model_module": "@jupyter-widgets/base",
            "_model_module_version": "1.2.0",
            "_model_name": "LayoutModel",
            "_view_count": null,
            "_view_module": "@jupyter-widgets/base",
            "_view_module_version": "1.2.0",
            "_view_name": "LayoutView",
            "align_content": null,
            "align_items": null,
            "align_self": null,
            "border": null,
            "bottom": null,
            "display": null,
            "flex": null,
            "flex_flow": null,
            "grid_area": null,
            "grid_auto_columns": null,
            "grid_auto_flow": null,
            "grid_auto_rows": null,
            "grid_column": null,
            "grid_gap": null,
            "grid_row": null,
            "grid_template_areas": null,
            "grid_template_columns": null,
            "grid_template_rows": null,
            "height": null,
            "justify_content": null,
            "justify_items": null,
            "left": null,
            "margin": null,
            "max_height": null,
            "max_width": null,
            "min_height": null,
            "min_width": null,
            "object_fit": null,
            "object_position": null,
            "order": null,
            "overflow": null,
            "overflow_x": null,
            "overflow_y": null,
            "padding": null,
            "right": null,
            "top": null,
            "visibility": null,
            "width": null
          }
        },
        "b7b9d584e05a4c35a3219e2cb318731d": {
          "model_module": "@jupyter-widgets/controls",
          "model_name": "ProgressStyleModel",
          "model_module_version": "1.5.0",
          "state": {
            "_model_module": "@jupyter-widgets/controls",
            "_model_module_version": "1.5.0",
            "_model_name": "ProgressStyleModel",
            "_view_count": null,
            "_view_module": "@jupyter-widgets/base",
            "_view_module_version": "1.2.0",
            "_view_name": "StyleView",
            "bar_color": null,
            "description_width": ""
          }
        },
        "09f31a92708849848568a680900225a9": {
          "model_module": "@jupyter-widgets/base",
          "model_name": "LayoutModel",
          "model_module_version": "1.2.0",
          "state": {
            "_model_module": "@jupyter-widgets/base",
            "_model_module_version": "1.2.0",
            "_model_name": "LayoutModel",
            "_view_count": null,
            "_view_module": "@jupyter-widgets/base",
            "_view_module_version": "1.2.0",
            "_view_name": "LayoutView",
            "align_content": null,
            "align_items": null,
            "align_self": null,
            "border": null,
            "bottom": null,
            "display": null,
            "flex": null,
            "flex_flow": null,
            "grid_area": null,
            "grid_auto_columns": null,
            "grid_auto_flow": null,
            "grid_auto_rows": null,
            "grid_column": null,
            "grid_gap": null,
            "grid_row": null,
            "grid_template_areas": null,
            "grid_template_columns": null,
            "grid_template_rows": null,
            "height": null,
            "justify_content": null,
            "justify_items": null,
            "left": null,
            "margin": null,
            "max_height": null,
            "max_width": null,
            "min_height": null,
            "min_width": null,
            "object_fit": null,
            "object_position": null,
            "order": null,
            "overflow": null,
            "overflow_x": null,
            "overflow_y": null,
            "padding": null,
            "right": null,
            "top": null,
            "visibility": null,
            "width": null
          }
        },
        "d502223946714b04a7e863bb8230b156": {
          "model_module": "@jupyter-widgets/controls",
          "model_name": "DescriptionStyleModel",
          "model_module_version": "1.5.0",
          "state": {
            "_model_module": "@jupyter-widgets/controls",
            "_model_module_version": "1.5.0",
            "_model_name": "DescriptionStyleModel",
            "_view_count": null,
            "_view_module": "@jupyter-widgets/base",
            "_view_module_version": "1.2.0",
            "_view_name": "StyleView",
            "description_width": ""
          }
        }
      }
    }
  },
  "nbformat": 4,
  "nbformat_minor": 0
}